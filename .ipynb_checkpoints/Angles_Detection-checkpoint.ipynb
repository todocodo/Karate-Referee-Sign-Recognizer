{
 "cells": [
  {
   "cell_type": "code",
   "execution_count": 1,
   "id": "7bb5fc29",
   "metadata": {},
   "outputs": [
    {
     "name": "stdout",
     "output_type": "stream",
     "text": [
      "Requirement already satisfied: mediapipe in c:\\programdata\\anaconda3\\lib\\site-packages (0.8.8.1)\n",
      "Requirement already satisfied: protobuf>=3.11.4 in c:\\programdata\\anaconda3\\lib\\site-packages (from mediapipe) (3.18.1)\n",
      "Requirement already satisfied: matplotlib in c:\\programdata\\anaconda3\\lib\\site-packages (from mediapipe) (3.3.4)\n",
      "Requirement already satisfied: opencv-contrib-python in c:\\programdata\\anaconda3\\lib\\site-packages (from mediapipe) (4.5.3.56)\n",
      "Requirement already satisfied: attrs>=19.1.0 in c:\\programdata\\anaconda3\\lib\\site-packages (from mediapipe) (20.3.0)\n",
      "Requirement already satisfied: absl-py in c:\\programdata\\anaconda3\\lib\\site-packages (from mediapipe) (0.15.0)\n",
      "Requirement already satisfied: numpy in c:\\programdata\\anaconda3\\lib\\site-packages (from mediapipe) (1.20.1)\n",
      "Requirement already satisfied: six in c:\\programdata\\anaconda3\\lib\\site-packages (from mediapipe) (1.15.0)\n",
      "Requirement already satisfied: wheel in c:\\programdata\\anaconda3\\lib\\site-packages (from mediapipe) (0.36.2)\n",
      "Requirement already satisfied: python-dateutil>=2.1 in c:\\programdata\\anaconda3\\lib\\site-packages (from matplotlib->mediapipe) (2.8.1)\n",
      "Requirement already satisfied: kiwisolver>=1.0.1 in c:\\programdata\\anaconda3\\lib\\site-packages (from matplotlib->mediapipe) (1.3.1)\n",
      "Requirement already satisfied: pyparsing!=2.0.4,!=2.1.2,!=2.1.6,>=2.0.3 in c:\\programdata\\anaconda3\\lib\\site-packages (from matplotlib->mediapipe) (2.4.7)\n",
      "Requirement already satisfied: pillow>=6.2.0 in c:\\programdata\\anaconda3\\lib\\site-packages (from matplotlib->mediapipe) (8.2.0)\n",
      "Requirement already satisfied: cycler>=0.10 in c:\\programdata\\anaconda3\\lib\\site-packages (from matplotlib->mediapipe) (0.10.0)\n"
     ]
    }
   ],
   "source": [
    "!pip install mediapipe "
   ]
  },
  {
   "cell_type": "code",
   "execution_count": 3,
   "id": "bebf6f82",
   "metadata": {},
   "outputs": [],
   "source": [
    "import mediapipe as mp\n",
    "import cv2\n",
    "\n",
    "import csv\n",
    "import os\n",
    "import numpy as np\n",
    "import pickle\n",
    "import pandas as pd"
   ]
  },
  {
   "cell_type": "code",
   "execution_count": 4,
   "id": "14a87753",
   "metadata": {},
   "outputs": [],
   "source": [
    "mp_drawing = mp.solutions.drawing_utils\n",
    "mp_holistic = mp.solutions.holistic"
   ]
  },
  {
   "cell_type": "code",
   "execution_count": 5,
   "id": "440447e9",
   "metadata": {},
   "outputs": [],
   "source": [
    "def calculate_angle(a,b,c):\n",
    "    a = np.array(a) # First\n",
    "    b = np.array(b) # Mid\n",
    "    c = np.array(c) # End\n",
    "    \n",
    "    radians = np.arctan2(c[1]-b[1], c[0]-b[0]) - np.arctan2(a[1]-b[1], a[0]-b[0])\n",
    "    angle = np.abs(radians*180.0/np.pi)\n",
    "    \n",
    "    if angle >180.0:\n",
    "        angle = 360-angle\n",
    "        \n",
    "    return angle"
   ]
  },
  {
   "cell_type": "code",
   "execution_count": 26,
   "id": "d1ad4260",
   "metadata": {},
   "outputs": [
    {
     "data": {
      "text/plain": [
       "x: 0.7411400675773621\n",
       "y: 0.8865759372711182\n",
       "z: -0.2518969178199768\n",
       "visibility: 0.9992336630821228"
      ]
     },
     "execution_count": 26,
     "metadata": {},
     "output_type": "execute_result"
    }
   ],
   "source": [
    "landmarks[mp_holistic.PoseLandmark.LEFT_SHOULDER.value]"
   ]
  },
  {
   "cell_type": "code",
   "execution_count": 27,
   "id": "509a30af",
   "metadata": {},
   "outputs": [
    {
     "data": {
      "text/plain": [
       "x: 0.8360599279403687\n",
       "y: 1.32499361038208\n",
       "z: -0.1836368292570114\n",
       "visibility: 0.13034459948539734"
      ]
     },
     "execution_count": 27,
     "metadata": {},
     "output_type": "execute_result"
    }
   ],
   "source": [
    "landmarks[mp_holistic.PoseLandmark.LEFT_ELBOW.value]"
   ]
  },
  {
   "cell_type": "code",
   "execution_count": 43,
   "id": "462b5205",
   "metadata": {},
   "outputs": [
    {
     "data": {
      "text/plain": [
       "x: 0.8302785158157349\n",
       "y: 1.720853328704834\n",
       "z: -0.5017535090446472\n",
       "visibility: 0.036943137645721436"
      ]
     },
     "execution_count": 43,
     "metadata": {},
     "output_type": "execute_result"
    }
   ],
   "source": [
    "landmarks[mp_holistic.PoseLandmark.LEFT_WRIST.value]"
   ]
  },
  {
   "cell_type": "code",
   "execution_count": 40,
   "id": "fa9df922",
   "metadata": {},
   "outputs": [],
   "source": [
    "a = np.array([landmarks[mp_holistic.PoseLandmark.LEFT_SHOULDER.value].x, landmarks[mp_holistic.PoseLandmark.LEFT_SHOULDER.value].y])\n",
    "b = np.array([landmarks[mp_holistic.PoseLandmark.LEFT_ELBOW.value].x, landmarks[mp_holistic.PoseLandmark.LEFT_ELBOW.value].y])\n",
    "c = np.array([landmarks[mp_holistic.PoseLandmark.LEFT_WRIST.value].x, landmarks[mp_holistic.PoseLandmark.LEFT_WRIST.value].y])"
   ]
  },
  {
   "cell_type": "code",
   "execution_count": 46,
   "id": "b2cd4a2d",
   "metadata": {},
   "outputs": [
    {
     "data": {
      "text/plain": [
       "3.3694110613142607"
      ]
     },
     "execution_count": 46,
     "metadata": {},
     "output_type": "execute_result"
    }
   ],
   "source": [
    "radians = np.arctan2(c[1]-b[1], c[0]-b[0]) - np.arctan2(a[1]-b[1], a[0]-b[0])\n",
    "radians"
   ]
  },
  {
   "cell_type": "code",
   "execution_count": 44,
   "id": "56ce02dc",
   "metadata": {},
   "outputs": [
    {
     "data": {
      "text/plain": [
       "1.5852953107147387"
      ]
     },
     "execution_count": 44,
     "metadata": {},
     "output_type": "execute_result"
    }
   ],
   "source": [
    "radians_test = np.arctan2(0.4,-0.0058)\n",
    "radians_test"
   ]
  },
  {
   "cell_type": "code",
   "execution_count": 47,
   "id": "d5951ed5",
   "metadata": {},
   "outputs": [
    {
     "data": {
      "text/plain": [
       "193.05303325800259"
      ]
     },
     "execution_count": 47,
     "metadata": {},
     "output_type": "execute_result"
    }
   ],
   "source": [
    "radians * 180 / np.pi"
   ]
  },
  {
   "cell_type": "code",
   "execution_count": null,
   "id": "81185065",
   "metadata": {},
   "outputs": [],
   "source": []
  },
  {
   "cell_type": "code",
   "execution_count": 18,
   "id": "ca1856d4",
   "metadata": {},
   "outputs": [
    {
     "name": "stdout",
     "output_type": "stream",
     "text": [
      "(999, 889)\n"
     ]
    }
   ],
   "source": [
    "elbow = [landmarks[mp_holistic.PoseLandmark.LEFT_ELBOW.value].x,landmarks[mp_holistic.PoseLandmark.LEFT_ELBOW.value].y]\n",
    "\n",
    "#Position of displaying the angle\n",
    "angle_position_list = list(np.multiply(elbow, [1280, 720]).astype(int))\n",
    "angle_position_list[0] = angle_position_list[0]+10\n",
    "angle_position_tuple = tuple(angle_position_list)\n",
    "print(angle_position_tuple)"
   ]
  },
  {
   "cell_type": "code",
   "execution_count": 11,
   "id": "5739a1e4",
   "metadata": {},
   "outputs": [
    {
     "name": "stdout",
     "output_type": "stream",
     "text": [
      "3.8.8\n"
     ]
    }
   ],
   "source": [
    "from platform import python_version\n",
    "\n",
    "print(python_version())"
   ]
  },
  {
   "cell_type": "code",
   "execution_count": 30,
   "id": "a554f1cd",
   "metadata": {},
   "outputs": [
    {
     "name": "stdout",
     "output_type": "stream",
     "text": [
      "640.0\n",
      "480.0\n",
      "1280.0\n",
      "720.0\n",
      "30.0\n"
     ]
    }
   ],
   "source": [
    "cap = cv2.VideoCapture(0)\n",
    "\n",
    "#Points counter variables\n",
    "position_Left = None\n",
    "position_Right = None\n",
    "counter = 0\n",
    "frameCounter = 0\n",
    "time = 0 \n",
    "responseTime = 0\n",
    "\n",
    "# Initiate holistic model\n",
    "with mp_holistic.Holistic(min_detection_confidence=0.5, min_tracking_confidence=0.5) as holistic:\n",
    "    \n",
    "    print(cap.get(cv2.CAP_PROP_FRAME_WIDTH))\n",
    "    print(cap.get(cv2.CAP_PROP_FRAME_HEIGHT))\n",
    "\n",
    "    \n",
    "    #this depends on the output video that is going to be put | the video and the internal camera need to be with the same size\n",
    "    cap.set(3, 1280)\n",
    "    cap.set(4, 720)\n",
    "    \n",
    "    print(cap.get(3))\n",
    "    print(cap.get(4))\n",
    "    print(cap.get(cv2.CAP_PROP_FPS))\n",
    "        \n",
    "    while cap.isOpened():\n",
    "        ret, frame = cap.read()\n",
    "        \n",
    "\n",
    "        # Recolor Feed\n",
    "        image = cv2.cvtColor(frame, cv2.COLOR_BGR2RGB)\n",
    "        \n",
    "        #ROI get\n",
    "        #image1 = image[307:478, 591:714]\n",
    "        \n",
    "        #Adjust the results and the mediapipe to only watch at a given ROI (not in the whole image/video)\n",
    "        results = holistic.process(image)\n",
    "        #print(results.pose_landmarks)\n",
    "            \n",
    "        # Recolor image back to BGR for rendering\n",
    "        image = cv2.cvtColor(image, cv2.COLOR_RGB2BGR)\n",
    "        \n",
    "        \n",
    "        #Extract the coordinates and calculating the angle\n",
    "        try:\n",
    "            landmarks = results.pose_landmarks.landmark\n",
    "            \n",
    "            # Get coordinates for Left Hand\n",
    "            hip = [landmarks[mp_holistic.PoseLandmark.LEFT_HIP.value].x,landmarks[mp_holistic.PoseLandmark.LEFT_HIP.value].y]\n",
    "            shoulder = [landmarks[mp_holistic.PoseLandmark.LEFT_SHOULDER.value].x,landmarks[mp_holistic.PoseLandmark.LEFT_SHOULDER.value].y]\n",
    "            elbow = [landmarks[mp_holistic.PoseLandmark.LEFT_ELBOW.value].x,landmarks[mp_holistic.PoseLandmark.LEFT_ELBOW.value].y]\n",
    "          \n",
    "            # Get coordinates for Right Hand\n",
    "            hip_right = [landmarks[mp_holistic.PoseLandmark.RIGHT_HIP.value].x,landmarks[mp_holistic.PoseLandmark.RIGHT_HIP.value].y]\n",
    "            shoulder_right = [landmarks[mp_holistic.PoseLandmark.RIGHT_SHOULDER.value].x,landmarks[mp_holistic.PoseLandmark.RIGHT_SHOULDER.value].y]\n",
    "            elbow_right = [landmarks[mp_holistic.PoseLandmark.RIGHT_ELBOW.value].x,landmarks[mp_holistic.PoseLandmark.RIGHT_ELBOW.value].y]\n",
    "            \n",
    "            # Calculate angles\n",
    "            angle = calculate_angle(hip, shoulder, elbow)\n",
    "            angle_right = calculate_angle(hip_right, shoulder_right, elbow_right)\n",
    "            \n",
    "            #Position of displaying the angle for the Left Side\n",
    "            angle_position_list = list(np.multiply(shoulder, [1280, 720]).astype(int))\n",
    "            angle_position_list[0] = angle_position_list[0]+30 #Placing it 30px on the right\n",
    "            angle_position_tuple = tuple(angle_position_list)\n",
    "            \n",
    "            #Position of displaying the angle for the Right Side\n",
    "            angle_right_position_list = list(np.multiply(shoulder_right, [1280, 720]).astype(int))\n",
    "            angle_right_position_list[0] = angle_right_position_list[0]-30 #Placing it 30px on the left\n",
    "            angle_right_position_tuple = tuple(angle_right_position_list)\n",
    "            \n",
    "            # Visualize angle\n",
    "            cv2.putText(image, str(angle.astype(int)) + \" C\", \n",
    "                           angle_position_tuple, \n",
    "                           cv2.FONT_HERSHEY_SIMPLEX, 1, (255, 255, 255), 2, cv2.LINE_AA)\n",
    "            \n",
    "            cv2.putText(image, str(angle_right.astype(int)) + \" C\", \n",
    "                           angle_right_position_tuple, \n",
    "                           cv2.FONT_HERSHEY_SIMPLEX, 1, (255, 255, 255), 2, cv2.LINE_AA)\n",
    "            #Frame Counter\n",
    "            frameCounter += 1\n",
    "            \n",
    "            #Time calculated based on the fps\n",
    "            time = frameCounter / 15\n",
    "            time = round(time, 2)\n",
    "            \n",
    "            #Check for the response Time \n",
    "    \n",
    "            \n",
    "            \n",
    "            # Calculating the position and  the points for the Left Hand\n",
    "            if angle < 25:\n",
    "                position_Left = \"NoN\"\n",
    "                \n",
    "            elif angle >= 25 and angle < 60:\n",
    "                position_Left = \"1_P Left\"\n",
    "\n",
    "            elif angle >= 60 and angle < 110:\n",
    "                position_Left = \"2_P Left\"\n",
    "\n",
    "            elif angle >= 110:\n",
    "                position_Left = \"3_P Left\"\n",
    "                \n",
    "            # Calculating the position and  the points for the Left Hand\n",
    "            if angle_right < 25:\n",
    "                position_Right = \"NoN\"\n",
    "                \n",
    "            elif angle_right >= 25 and angle_right < 60:\n",
    "                position_Right = \"1_P Right\"\n",
    "\n",
    "            elif angle_right >= 60 and angle_right < 110:\n",
    "                position_Right = \"2_P Right\"\n",
    "\n",
    "            elif angle_right >= 110:\n",
    "                position_Right = \"3_P Right\"\n",
    "\n",
    "                \n",
    "            #Things that will NOT work\n",
    "            #     To wait for the NoN position and then to take the last position and set the points (from position 3 to NoN\n",
    "            #         it needs to move to 2 and then 1- so the last will be 1 position)\n",
    "            #     To wait a bit in every position and if the position is held more than 1 sec than update the score\n",
    "            \n",
    "        except:\n",
    "            pass\n",
    "        \n",
    "        #Render some text in the screen\n",
    "        cv2.putText(image, str(counter), (10,60), \n",
    "                    cv2.FONT_HERSHEY_SIMPLEX, 1.5, (255,255,255), 2, cv2.LINE_AA)\n",
    "        \n",
    "        cv2.putText(image, position_Left, (10,120), \n",
    "                    cv2.FONT_HERSHEY_SIMPLEX, 1.5, (255,255,255), 2, cv2.LINE_AA)\n",
    "                \n",
    "        #On the middle of the screen \n",
    "        cv2.putText(image, str(time), (600,60), \n",
    "                    cv2.FONT_HERSHEY_SIMPLEX, 1.5, (255,255,255), 2, cv2.LINE_AA)\n",
    "        \n",
    "        #On the right of the screen\n",
    "        cv2.putText(image, \"Frames->\" + str(frameCounter), (900,60), \n",
    "                    cv2.FONT_HERSHEY_SIMPLEX, 1.5, (255,255,255), 2, cv2.LINE_AA)\n",
    "        cv2.putText(image, position_Right, (900,120), \n",
    "                    cv2.FONT_HERSHEY_SIMPLEX, 1.5, (255,255,255), 2, cv2.LINE_AA)\n",
    "                    \n",
    "        # 4. Pose Detections\n",
    "        mp_drawing.draw_landmarks(image, results.pose_landmarks, mp_holistic.POSE_CONNECTIONS, \n",
    "                                 mp_drawing.DrawingSpec(color=(245,117,66), thickness=2, circle_radius=4),\n",
    "                                 mp_drawing.DrawingSpec(color=(245,66,230), thickness=2, circle_radius=2)\n",
    "                                 )\n",
    "                        \n",
    "        cv2.imshow('Raw Webcam Feed', image)\n",
    "\n",
    "        if cv2.waitKey(10) & 0xFF == ord('q'):\n",
    "            break\n",
    "\n",
    "\n",
    "cap.release()\n",
    "cv2.destroyAllWindows()"
   ]
  },
  {
   "cell_type": "code",
   "execution_count": 34,
   "id": "e5bc4a2a",
   "metadata": {},
   "outputs": [],
   "source": [
    "cap.release()\n",
    "cv2.destroyAllWindows()"
   ]
  },
  {
   "cell_type": "code",
   "execution_count": 23,
   "id": "69945761",
   "metadata": {},
   "outputs": [],
   "source": [
    "cv2.putText??"
   ]
  }
 ],
 "metadata": {
  "kernelspec": {
   "display_name": "Python 3",
   "language": "python",
   "name": "python3"
  },
  "language_info": {
   "codemirror_mode": {
    "name": "ipython",
    "version": 3
   },
   "file_extension": ".py",
   "mimetype": "text/x-python",
   "name": "python",
   "nbconvert_exporter": "python",
   "pygments_lexer": "ipython3",
   "version": "3.8.8"
  }
 },
 "nbformat": 4,
 "nbformat_minor": 5
}
