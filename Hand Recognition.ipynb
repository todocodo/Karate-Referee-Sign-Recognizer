{
 "cells": [
  {
   "cell_type": "code",
   "execution_count": 1,
   "id": "91a94c50",
   "metadata": {},
   "outputs": [
    {
     "name": "stdout",
     "output_type": "stream",
     "text": [
      "Requirement already satisfied: mediapipe in c:\\programdata\\anaconda3\\lib\\site-packages (0.8.8.1)\n",
      "Requirement already satisfied: matplotlib in c:\\programdata\\anaconda3\\lib\\site-packages (from mediapipe) (3.3.4)\n",
      "Requirement already satisfied: absl-py in c:\\programdata\\anaconda3\\lib\\site-packages (from mediapipe) (0.15.0)\n",
      "Requirement already satisfied: wheel in c:\\programdata\\anaconda3\\lib\\site-packages (from mediapipe) (0.36.2)\n",
      "Requirement already satisfied: attrs>=19.1.0 in c:\\programdata\\anaconda3\\lib\\site-packages (from mediapipe) (20.3.0)\n",
      "Requirement already satisfied: numpy in c:\\programdata\\anaconda3\\lib\\site-packages (from mediapipe) (1.20.1)\n",
      "Requirement already satisfied: opencv-contrib-python in c:\\programdata\\anaconda3\\lib\\site-packages (from mediapipe) (4.5.3.56)\n",
      "Requirement already satisfied: protobuf>=3.11.4 in c:\\programdata\\anaconda3\\lib\\site-packages (from mediapipe) (3.18.1)\n",
      "Requirement already satisfied: six in c:\\programdata\\anaconda3\\lib\\site-packages (from mediapipe) (1.15.0)\n",
      "Requirement already satisfied: cycler>=0.10 in c:\\programdata\\anaconda3\\lib\\site-packages (from matplotlib->mediapipe) (0.10.0)\n",
      "Requirement already satisfied: pillow>=6.2.0 in c:\\programdata\\anaconda3\\lib\\site-packages (from matplotlib->mediapipe) (8.2.0)\n",
      "Requirement already satisfied: kiwisolver>=1.0.1 in c:\\programdata\\anaconda3\\lib\\site-packages (from matplotlib->mediapipe) (1.3.1)\n",
      "Requirement already satisfied: python-dateutil>=2.1 in c:\\programdata\\anaconda3\\lib\\site-packages (from matplotlib->mediapipe) (2.8.1)\n",
      "Requirement already satisfied: pyparsing!=2.0.4,!=2.1.2,!=2.1.6,>=2.0.3 in c:\\programdata\\anaconda3\\lib\\site-packages (from matplotlib->mediapipe) (2.4.7)\n"
     ]
    }
   ],
   "source": [
    "!pip install mediapipe"
   ]
  },
  {
   "cell_type": "code",
   "execution_count": 39,
   "id": "d621839b",
   "metadata": {},
   "outputs": [],
   "source": [
    "import mediapipe as mp\n",
    "import cv2\n",
    "\n",
    "import csv\n",
    "import os\n",
    "import numpy as np\n",
    "import pickle\n",
    "import pandas as pd\n",
    "import math"
   ]
  },
  {
   "cell_type": "code",
   "execution_count": 4,
   "id": "328ce29b",
   "metadata": {},
   "outputs": [],
   "source": [
    "mp_drawing = mp.solutions.drawing_utils\n",
    "mp_holistic = mp.solutions.holistic"
   ]
  },
  {
   "cell_type": "code",
   "execution_count": 7,
   "id": "8faeb7d9",
   "metadata": {},
   "outputs": [
    {
     "name": "stdout",
     "output_type": "stream",
     "text": [
      "640.0\n",
      "480.0\n",
      "1280.0\n",
      "720.0\n",
      "30.0\n"
     ]
    }
   ],
   "source": [
    "cap = cv2.VideoCapture(0)\n",
    "\n",
    "# Initiate holistic model\n",
    "with mp_holistic.Holistic(min_detection_confidence=0.5, min_tracking_confidence=0.5) as holistic:\n",
    "    \n",
    "    print(cap.get(cv2.CAP_PROP_FRAME_WIDTH))\n",
    "    print(cap.get(cv2.CAP_PROP_FRAME_HEIGHT))\n",
    "\n",
    "    \n",
    "    #this depends on the output video that is going to be put | the video and the internal camera need to be with the same size\n",
    "    cap.set(3, 1280)\n",
    "    cap.set(4, 720)\n",
    "    \n",
    "    print(cap.get(3))\n",
    "    print(cap.get(4))\n",
    "    print(cap.get(cv2.CAP_PROP_FPS))\n",
    "        \n",
    "    while cap.isOpened():\n",
    "        ret, frame = cap.read()\n",
    "        \n",
    "\n",
    "        # Recolor Feed\n",
    "        image = cv2.cvtColor(frame, cv2.COLOR_BGR2RGB)\n",
    "        \n",
    "        #ROI get\n",
    "        #image1 = image[307:478, 591:714]\n",
    "        \n",
    "        #Adjust the results and the mediapipe to only watch at a given ROI (not in the whole image/video)\n",
    "        results = holistic.process(image)\n",
    "        #print(results.pose_landmarks)\n",
    "            \n",
    "        # Recolor image back to BGR for rendering\n",
    "        image = cv2.cvtColor(image, cv2.COLOR_RGB2BGR)\n",
    "        \n",
    "                    \n",
    "        # Pose Detections\n",
    "        mp_drawing.draw_landmarks(image, results.pose_landmarks, mp_holistic.POSE_CONNECTIONS, \n",
    "                                 mp_drawing.DrawingSpec(color=(245,117,66), thickness=2, circle_radius=4),\n",
    "                                 mp_drawing.DrawingSpec(color=(245,66,230), thickness=2, circle_radius=2)\n",
    "                                 )\n",
    "        # Hand Detection \n",
    "         # Right hand\n",
    "        mp_drawing.draw_landmarks(image, results.right_hand_landmarks, mp_holistic.HAND_CONNECTIONS, \n",
    "                                 mp_drawing.DrawingSpec(color=(80,22,10), thickness=2, circle_radius=4),\n",
    "                                 mp_drawing.DrawingSpec(color=(80,44,121), thickness=2, circle_radius=2)\n",
    "                                 )\n",
    "\n",
    "        # Left Hand\n",
    "        mp_drawing.draw_landmarks(image, results.left_hand_landmarks, mp_holistic.HAND_CONNECTIONS, \n",
    "                                 mp_drawing.DrawingSpec(color=(121,22,76), thickness=2, circle_radius=4),\n",
    "                                 mp_drawing.DrawingSpec(color=(121,44,250), thickness=2, circle_radius=2)\n",
    "                                 )\n",
    "\n",
    "                        \n",
    "        cv2.imshow('Raw Webcam Feed', image)\n",
    "\n",
    "        if cv2.waitKey(10) & 0xFF == ord('q'):\n",
    "            break\n",
    "\n",
    "\n",
    "cap.release()\n",
    "cv2.destroyAllWindows()"
   ]
  },
  {
   "cell_type": "code",
   "execution_count": 36,
   "id": "91df2fe2",
   "metadata": {},
   "outputs": [
    {
     "ename": "AttributeError",
     "evalue": "'NoneType' object has no attribute 'landmark'",
     "output_type": "error",
     "traceback": [
      "\u001b[1;31m---------------------------------------------------------------------------\u001b[0m",
      "\u001b[1;31mAttributeError\u001b[0m                            Traceback (most recent call last)",
      "\u001b[1;32m<ipython-input-36-fc8998c03306>\u001b[0m in \u001b[0;36m<module>\u001b[1;34m\u001b[0m\n\u001b[1;32m----> 1\u001b[1;33m \u001b[0mlandmarks\u001b[0m \u001b[1;33m=\u001b[0m \u001b[0mresults\u001b[0m\u001b[1;33m.\u001b[0m\u001b[0mleft_hand_landmarks\u001b[0m\u001b[1;33m.\u001b[0m\u001b[0mlandmark\u001b[0m\u001b[1;33m\u001b[0m\u001b[1;33m\u001b[0m\u001b[0m\n\u001b[0m",
      "\u001b[1;31mAttributeError\u001b[0m: 'NoneType' object has no attribute 'landmark'"
     ]
    }
   ],
   "source": [
    "landmarks = results.left_hand_landmarks.landmark"
   ]
  },
  {
   "cell_type": "code",
   "execution_count": 37,
   "id": "046f23ab",
   "metadata": {},
   "outputs": [
    {
     "data": {
      "text/plain": [
       "x: 0.5179898142814636\n",
       "y: 0.8276535868644714\n",
       "z: -0.05491213873028755"
      ]
     },
     "execution_count": 37,
     "metadata": {},
     "output_type": "execute_result"
    }
   ],
   "source": [
    "landmarks[mp_holistic.HandLandmark.PINKY_TIP.value]"
   ]
  },
  {
   "cell_type": "code",
   "execution_count": 38,
   "id": "f27acbe6",
   "metadata": {},
   "outputs": [
    {
     "data": {
      "text/plain": [
       "x: 0.596295177936554\n",
       "y: 0.9249984622001648\n",
       "z: -7.186736183939502e-07"
      ]
     },
     "execution_count": 38,
     "metadata": {},
     "output_type": "execute_result"
    }
   ],
   "source": [
    "landmarks[mp_holistic.HandLandmark.WRIST.value]"
   ]
  },
  {
   "cell_type": "code",
   "execution_count": 52,
   "id": "57c72d31",
   "metadata": {},
   "outputs": [],
   "source": [
    "def calculate_distance(p1, p2):\n",
    "    \n",
    "    distance = math.sqrt( ((int(p1[0])-int(p2[0]))**2)+((int(p1[1])-int(p2[1]))**2) )\n",
    "    return int(distance)"
   ]
  },
  {
   "cell_type": "code",
   "execution_count": 49,
   "id": "6775b66a",
   "metadata": {},
   "outputs": [],
   "source": [
    "#JUST FOR TESTING\n",
    "\n",
    "wrist = [landmarks[mp_holistic.HandLandmark.WRIST.value].x,landmarks[mp_holistic.HandLandmark.WRIST.value].y]\n",
    "\n",
    "pinky = [landmarks[mp_holistic.HandLandmark.PINKY_TIP.value].x,landmarks[mp_holistic.HandLandmark.PINKY_TIP.value].y]\n",
    "\n",
    "#Position of displaying the detector \n",
    "position_top = list(np.multiply(pinky, [1280, 720]).astype(int))\n",
    "\n",
    "position_bottom = list(np.multiply(wrist, [1280, 720]).astype(int))\n"
   ]
  },
  {
   "cell_type": "code",
   "execution_count": 50,
   "id": "5e7839ff",
   "metadata": {},
   "outputs": [
    {
     "name": "stdout",
     "output_type": "stream",
     "text": [
      "122\n"
     ]
    }
   ],
   "source": [
    "#JUST FOR TESTING \n",
    "\n",
    "distance = calculate_distance(position_top, position_bottom)\n",
    "\n",
    "print(distance)"
   ]
  },
  {
   "cell_type": "markdown",
   "id": "390e2d17",
   "metadata": {},
   "source": [
    "## Detection only on the hands"
   ]
  },
  {
   "cell_type": "code",
   "execution_count": 69,
   "id": "2f58cf7f",
   "metadata": {},
   "outputs": [
    {
     "name": "stdout",
     "output_type": "stream",
     "text": [
      "640.0\n",
      "480.0\n",
      "1280.0\n",
      "720.0\n",
      "30.0\n"
     ]
    }
   ],
   "source": [
    "cap = cv2.VideoCapture(0)\n",
    "\n",
    "# Initiate holistic model\n",
    "with mp_holistic.Holistic(min_detection_confidence=0.5, min_tracking_confidence=0.5) as holistic:\n",
    "    \n",
    "    print(cap.get(cv2.CAP_PROP_FRAME_WIDTH))\n",
    "    print(cap.get(cv2.CAP_PROP_FRAME_HEIGHT))\n",
    "\n",
    "    \n",
    "    #this depends on the output video that is going to be put | the video and the internal camera need to be with the same size\n",
    "    cap.set(3, 1280)\n",
    "    cap.set(4, 720)\n",
    "    \n",
    "    print(cap.get(3))\n",
    "    print(cap.get(4))\n",
    "    print(cap.get(cv2.CAP_PROP_FPS))\n",
    "        \n",
    "    while cap.isOpened():\n",
    "        ret, frame = cap.read()\n",
    "        \n",
    "\n",
    "        # Recolor Feed\n",
    "        image = cv2.cvtColor(frame, cv2.COLOR_BGR2RGB)\n",
    "        \n",
    "        #ROI get\n",
    "        #image1 = image[307:478, 591:714]\n",
    "        \n",
    "        #Adjust the results and the mediapipe to only watch at a given ROI (not in the whole image/video)\n",
    "        results = holistic.process(image)\n",
    "        #print(results.pose_landmarks)\n",
    "            \n",
    "        # Recolor image back to BGR for rendering\n",
    "        image = cv2.cvtColor(image, cv2.COLOR_RGB2BGR)\n",
    "        \n",
    "        #Extracting the coordinates\n",
    "        try:\n",
    "            landmarks = results.left_hand_landmarks.landmark\n",
    "\n",
    "    #             wrist_left = [landmarks[mp_holistic.PoseLandmark.LEFT_WRIST.value].x,landmarks[mp_holistic.PoseLandmark.LEFT_WRIST.value].y]\n",
    "    #             wrist_right = [landmarks[mp_holistic.PoseLandmark.RIGHT_WRIST.value].x,landmarks[mp_holistic.PoseLandmark.RIGHT_WRIST.value].y]\n",
    "            wrist = [landmarks[mp_holistic.HandLandmark.WRIST.value].x,landmarks[mp_holistic.HandLandmark.WRIST.value].y]\n",
    "\n",
    "            middle_finger = [landmarks[mp_holistic.HandLandmark.MIDDLE_FINGER_TIP.value].x,landmarks[mp_holistic.HandLandmark.MIDDLE_FINGER_TIP.value].y]\n",
    "\n",
    "            #Position of displaying the detector \n",
    "            position_top = list(np.multiply(middle_finger, [1280, 720]).astype(int))\n",
    "\n",
    "            position_bottom = list(np.multiply(wrist, [1280, 720]).astype(int))\n",
    "\n",
    "            #Getting the distance between the finger and the wrist \n",
    "            distance = calculate_distance(position_top, position_bottom)\n",
    "\n",
    "            position_top[0] = position_top[0] - int(distance/2)\n",
    "            position_bottom[0] = position_bottom[0] + int(distance/2)\n",
    "\n",
    "            #Drawing a Ractangle on the hand\n",
    "            cv2.rectangle(image, position_top, position_bottom, (0,0,255), 2)\n",
    "\n",
    "        except:\n",
    "            pass\n",
    "        # Pose Detections\n",
    "        mp_drawing.draw_landmarks(image, results.pose_landmarks, mp_holistic.POSE_CONNECTIONS, \n",
    "                                 mp_drawing.DrawingSpec(color=(245,117,66), thickness=2, circle_radius=4),\n",
    "                                 mp_drawing.DrawingSpec(color=(245,66,230), thickness=2, circle_radius=2)\n",
    "                                 )\n",
    "        # Hand Detection \n",
    "         # Right hand\n",
    "        mp_drawing.draw_landmarks(image, results.right_hand_landmarks, mp_holistic.HAND_CONNECTIONS, \n",
    "                                 mp_drawing.DrawingSpec(color=(80,22,10), thickness=2, circle_radius=4),\n",
    "                                 mp_drawing.DrawingSpec(color=(80,44,121), thickness=2, circle_radius=2)\n",
    "                                 )\n",
    "\n",
    "        # Left Hand\n",
    "        mp_drawing.draw_landmarks(image, results.left_hand_landmarks, mp_holistic.HAND_CONNECTIONS, \n",
    "                                 mp_drawing.DrawingSpec(color=(121,22,76), thickness=2, circle_radius=4),\n",
    "                                 mp_drawing.DrawingSpec(color=(121,44,250), thickness=2, circle_radius=2)\n",
    "                                 )\n",
    "\n",
    "                        \n",
    "        cv2.imshow('Raw Webcam Feed', image)\n",
    "\n",
    "        if cv2.waitKey(10) & 0xFF == ord('q'):\n",
    "            break\n",
    "\n",
    "\n",
    "cap.release()\n",
    "cv2.destroyAllWindows()"
   ]
  },
  {
   "cell_type": "code",
   "execution_count": 63,
   "id": "4e275f8e",
   "metadata": {},
   "outputs": [],
   "source": [
    "\n",
    "cap.release()\n",
    "cv2.destroyAllWindows()"
   ]
  },
  {
   "cell_type": "code",
   "execution_count": 19,
   "id": "9671cfee",
   "metadata": {},
   "outputs": [],
   "source": [
    "cv2.rectangle??"
   ]
  }
 ],
 "metadata": {
  "kernelspec": {
   "display_name": "Python 3",
   "language": "python",
   "name": "python3"
  },
  "language_info": {
   "codemirror_mode": {
    "name": "ipython",
    "version": 3
   },
   "file_extension": ".py",
   "mimetype": "text/x-python",
   "name": "python",
   "nbconvert_exporter": "python",
   "pygments_lexer": "ipython3",
   "version": "3.8.8"
  }
 },
 "nbformat": 4,
 "nbformat_minor": 5
}
